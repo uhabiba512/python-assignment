{
  "nbformat": 4,
  "nbformat_minor": 0,
  "metadata": {
    "colab": {
      "provenance": []
    },
    "kernelspec": {
      "name": "python3",
      "display_name": "Python 3"
    },
    "language_info": {
      "name": "python"
    }
  },
  "cells": [
    {
      "cell_type": "markdown",
      "source": [
        "**Q 1. **   What are the five key concepts of Object-Oriented Programming (OOP)?"
      ],
      "metadata": {
        "id": "yRfjoqqddne9"
      }
    },
    {
      "cell_type": "markdown",
      "source": [
        "\n",
        "ANS 1. Five key concepts of OOP are -\n",
        "\n",
        "1. **Encapsulation:**\n",
        "\n",
        "Bundling data (attributes) and methods (functions) that operate on that data within a single unit called a class.\n",
        "This promotes data hiding and modularity.\n",
        "\n",
        "2. **Inheritance:**\n",
        "\n",
        "Creating new classes (child classes) based on existing classes (parent classes).\n",
        "Child classes inherit the attributes and methods of the parent class, allowing for code reuse and hierarchical relationships.\n",
        "\n",
        "\n",
        "3. **Polymorphism:**\n",
        "\n",
        "The ability of objects of different classes to respond to the same method call in different ways.\n",
        "\n",
        "This can be achieved through method overriding (defining a method in a child class with the same name as a method in the parent class) or method overloading (defining multiple methods with the same name but different parameters in the same class).\n",
        "\n",
        "4. **Abstraction:**\n",
        "\n",
        "Focusing on the essential features of an object while hiding the implementation details.\n",
        "Abstract classes and interfaces are used to define the blueprint of a class without providing complete implementation.\n",
        "\n",
        "5. **Objects and Classes:**\n",
        "\n",
        "A class is a blueprint or template for creating objects.\n",
        "An object is an instance of a class, with its own state (attributes) and behavior (methods)."
      ],
      "metadata": {
        "id": "e_XnjQXKdbE6"
      }
    },
    {
      "cell_type": "markdown",
      "source": [
        "**Q 2.** Write a Python class for a `Car` with attributes for `make`, `model`, and `year`. Include a method to display\n",
        "the car's information,"
      ],
      "metadata": {
        "id": "xEEhctCSerk7"
      }
    },
    {
      "cell_type": "code",
      "source": [
        "# ANS 2.  Class Car\n",
        "\n",
        "class car():\n",
        "  def __init__(self, make, model, year):\n",
        "    self.make = make\n",
        "    self.model = model\n",
        "    self.year = year\n",
        "\n",
        "  def info_make_model(self):\n",
        "    print(self.make, self.model)\n",
        "\n",
        "  def info_make_year(self):\n",
        "    print(self.make, self.year)\n",
        "\n",
        "  def info_model_year(self):\n",
        "    print(self.model, self.year)"
      ],
      "metadata": {
        "id": "fvcGvieUeFCE"
      },
      "execution_count": 1,
      "outputs": []
    },
    {
      "cell_type": "code",
      "source": [
        "car1 = car(\"Ford\", \"Mustang\", 1969)\n",
        "car1.info_make_model()\n",
        "car1.info_make_year()\n",
        "car1.info_model_year()"
      ],
      "metadata": {
        "colab": {
          "base_uri": "https://localhost:8080/"
        },
        "id": "7DTJjcMnfGTM",
        "outputId": "dd66203c-a6b0-4c39-d1c5-6ee06e7a564d"
      },
      "execution_count": null,
      "outputs": [
        {
          "output_type": "stream",
          "name": "stdout",
          "text": [
            "Ford Mustang\n",
            "Ford 1969\n",
            "Mustang 1969\n"
          ]
        }
      ]
    },
    {
      "cell_type": "markdown",
      "source": [
        "**Q 3. ** Explain the difference between instance methods and class methods. Provide an example of each.\n",
        "\n",
        "ANS 3. Instance Methods:\n",
        "\n",
        "Instance methods are methods that belong to an instance of a class. They have access to the instance's attributes and can modify them. Instance methods are used to perform actions that are specific to an instance of a class."
      ],
      "metadata": {
        "id": "2IVh2s8JfT89"
      }
    },
    {
      "cell_type": "code",
      "source": [
        "#Instance Methods example\n",
        "class dog():\n",
        "  def __init__(self, name, age):\n",
        "    self.name = name\n",
        "    self.age = age\n",
        "\n",
        "  def about(self):\n",
        "    print(self.name, \"is\", self.age, \"years old\")\n"
      ],
      "metadata": {
        "id": "1vksHNQEgJUb"
      },
      "execution_count": null,
      "outputs": []
    },
    {
      "cell_type": "code",
      "source": [
        "about = dog(\"Jerry\", 4)"
      ],
      "metadata": {
        "id": "G1faDr67g1lQ"
      },
      "execution_count": null,
      "outputs": []
    },
    {
      "cell_type": "code",
      "source": [
        "about.about()"
      ],
      "metadata": {
        "colab": {
          "base_uri": "https://localhost:8080/"
        },
        "id": "NoAckhErg_c3",
        "outputId": "c2eb2c58-2284-4b98-aa37-e9549ad207de"
      },
      "execution_count": null,
      "outputs": [
        {
          "output_type": "stream",
          "name": "stdout",
          "text": [
            "Jerry is 4 years old\n"
          ]
        }
      ]
    },
    {
      "cell_type": "markdown",
      "source": [
        "Class MethodS:\n",
        "\n",
        "Class methods are methods that belong to a class itself, rather than to an instance of the class. They have access to the class's attributes and can modify them. Class methods are used to perform actions that are related to the class as a whole.\n"
      ],
      "metadata": {
        "id": "5qI5RDrggPNb"
      }
    },
    {
      "cell_type": "code",
      "source": [
        "#class methods example\n",
        "\n",
        "\n",
        "class Dog:\n",
        "    num_dogs = 0\n",
        "\n",
        "    def __init__(self, name, age):\n",
        "        self.name = name\n",
        "        self.age = age\n",
        "        Dog.num_dogs += 1\n",
        "\n",
        "    @classmethod\n",
        "    def get_num_dogs(cls):\n",
        "        return cls.num_dogs\n",
        "\n",
        "my_dog = Dog(\"Fido\", 3)\n",
        "print(Dog.get_num_dogs())"
      ],
      "metadata": {
        "colab": {
          "base_uri": "https://localhost:8080/"
        },
        "id": "WtO-aCIkhkxL",
        "outputId": "fa01306b-bcc3-4f94-9d4c-b41aeb62aacf"
      },
      "execution_count": 4,
      "outputs": [
        {
          "output_type": "stream",
          "name": "stdout",
          "text": [
            "1\n"
          ]
        }
      ]
    },
    {
      "cell_type": "markdown",
      "source": [
        "** Q 4. How does Python implement method overloading? Give an example**\n"
      ],
      "metadata": {
        "id": "pjwFFxzIgfE9"
      }
    },
    {
      "cell_type": "markdown",
      "source": [
        "**ANS 4.**  Python doesn't directly support method overloading like some other languages. This means you can't define multiple methods with the same name but different parameter lists within a single class.\n",
        "\n",
        "However, you can achieve similar functionality using default arguments and variable-length arguments (args and *kwargs)."
      ],
      "metadata": {
        "id": "0ABhfz2sgp0k"
      }
    },
    {
      "cell_type": "code",
      "source": [
        "class Calculator:\n",
        "    def add(self, a, b=0, c=0):\n",
        "        return a + b + c\n",
        "\n",
        "# Different ways to call the 'add' method:\n",
        "result1 = Calculator().add(2, 3)  # Output: 5\n",
        "result2 = Calculator().add(2, 3, 4)  # Output: 9\n",
        "result3 = Calculator().add(2)  # Output: 2"
      ],
      "metadata": {
        "id": "LIvEItI7icTw"
      },
      "execution_count": 5,
      "outputs": []
    },
    {
      "cell_type": "code",
      "source": [
        "result1"
      ],
      "metadata": {
        "colab": {
          "base_uri": "https://localhost:8080/"
        },
        "id": "mxRfUAqUh503",
        "outputId": "f232b334-debb-421d-cd0a-a21162888abe"
      },
      "execution_count": 7,
      "outputs": [
        {
          "output_type": "execute_result",
          "data": {
            "text/plain": [
              "5"
            ]
          },
          "metadata": {},
          "execution_count": 7
        }
      ]
    },
    {
      "cell_type": "code",
      "source": [
        "result2"
      ],
      "metadata": {
        "colab": {
          "base_uri": "https://localhost:8080/"
        },
        "id": "R2MkaODSh8l8",
        "outputId": "31378aa1-29d2-4bcb-b72a-7fb680c7e7e6"
      },
      "execution_count": 8,
      "outputs": [
        {
          "output_type": "execute_result",
          "data": {
            "text/plain": [
              "9"
            ]
          },
          "metadata": {},
          "execution_count": 8
        }
      ]
    },
    {
      "cell_type": "code",
      "source": [
        "result3"
      ],
      "metadata": {
        "colab": {
          "base_uri": "https://localhost:8080/"
        },
        "id": "KhyMEg1SiCFX",
        "outputId": "7bd4c57e-e598-400b-c4df-80658c3e293a"
      },
      "execution_count": 9,
      "outputs": [
        {
          "output_type": "execute_result",
          "data": {
            "text/plain": [
              "2"
            ]
          },
          "metadata": {},
          "execution_count": 9
        }
      ]
    },
    {
      "cell_type": "markdown",
      "source": [
        "** Q 5. What are the three types of access modifiers in Python? How are they denoted?**\n",
        "\n",
        "ANS 5. Python uses a convention-based approach for access modifiers, relying on underscores to indicate the desired level of access:\n",
        "\n",
        "Public:\n",
        "\n",
        "No underscore prefix. Accessible from anywhere, both within and outside the class. Protected:\n",
        "\n",
        "Single underscore prefix (_). Accessible within the class and its subclasses. Private:\n",
        "\n",
        "Double underscore prefix (__). Accessible only within the class itself."
      ],
      "metadata": {
        "id": "-LwpEfyhiIsE"
      }
    },
    {
      "cell_type": "markdown",
      "source": [
        "**Q 6. Describe the five types of inheritance in Python. Provide a simple example of multiple inheritance.**\n",
        "\n",
        "ANS 6.  Types of Inheritance in Python\n",
        "\n",
        "Python supports several types of inheritance:\n",
        "\n",
        "Single Inheritance: A class inherits from only one parent class.\n",
        "\n",
        "Multiple Inheritance: A class inherits from multiple parent classes.\n",
        "\n",
        "Multilevel Inheritance: A class inherits from a derived class.\n",
        "\n",
        "Hierarchical Inheritance: Multiple classes inherit from a single parent class.\n",
        "\n",
        "Hybrid Inheritance: A combination of multiple inheritance types.\n",
        "\n"
      ],
      "metadata": {
        "id": "MA_3CqLmij8t"
      }
    },
    {
      "cell_type": "code",
      "source": [
        "#Here's a simple example of multiple inheritance:\n",
        "\n",
        "\n",
        "class Animal:\n",
        "    def __init__(self, name):\n",
        "        self.name = name\n",
        "\n",
        "    def eat(self):\n",
        "        print(f\"{self.name} is eating.\")\n",
        "\n",
        "class Mammal:\n",
        "    def __init__(self, hair_color):\n",
        "        self.hair_color = hair_color\n",
        "\n",
        "    def walk(self):\n",
        "        print(\"Walking...\")\n",
        "\n",
        "class Dog(Animal, Mammal):\n",
        "    def __init__(self, name, hair_color):\n",
        "        Animal.__init__(self, name)\n",
        "        Mammal.__init__(self, hair_color)\n",
        "\n",
        "    def bark(self):\n",
        "        print(\"Woof!\")\n",
        "\n"
      ],
      "metadata": {
        "id": "FYQWvIdtjYpR"
      },
      "execution_count": null,
      "outputs": []
    },
    {
      "cell_type": "code",
      "source": [
        "my_dog = Dog(\"Fido\", \"Brown\")\n",
        "my_dog.eat()\n",
        "my_dog.walk()\n",
        "my_dog.bark()\n",
        "\n",
        "#In this example, the Dog class inherits from both the Animal and Mammal classes, demonstrating multiple inheritance."
      ],
      "metadata": {
        "colab": {
          "base_uri": "https://localhost:8080/"
        },
        "id": "O-QlIwxajhpM",
        "outputId": "c71bfeda-da3c-4167-bedf-2d18c6899dcd"
      },
      "execution_count": null,
      "outputs": [
        {
          "output_type": "stream",
          "name": "stdout",
          "text": [
            "Fido is eating.\n",
            "Walking...\n",
            "Woof!\n"
          ]
        }
      ]
    },
    {
      "cell_type": "markdown",
      "source": [
        "**Ques 7. What is the Method Resolution Order (MRO) in Python? How can you retrieve it programmatically?**"
      ],
      "metadata": {
        "id": "IsWOZe-Nj0as"
      }
    },
    {
      "cell_type": "markdown",
      "source": [
        "**ANS 7. **  Method Resolution Order (MRO)\n",
        "\n",
        "MRO is the order in which Python searches for methods in a class hierarchy, especially when dealing with multiple inheritance. It ensures a predictable and consistent way to resolve method calls. Python uses the C3 linearization algorithm to determine the MRO.\n",
        "\n",
        "Retrieving MRO Programmatically\n",
        "\n",
        "You can retrieve the MRO of a class using the mro attribute or the mro() method:"
      ],
      "metadata": {
        "id": "ZAwsa5X2j4pS"
      }
    },
    {
      "cell_type": "code",
      "source": [
        "#Here's an example:\n",
        "\n",
        "\n",
        "class Animal:\n",
        "    pass\n",
        "\n",
        "class Mammal(Animal):\n",
        "    pass\n",
        "\n",
        "class Dog(Mammal):\n",
        "    pass\n",
        "\n",
        "print(Dog.mro())\n",
        "print(Mammal.mro())"
      ],
      "metadata": {
        "colab": {
          "base_uri": "https://localhost:8080/"
        },
        "id": "aLsEMGHIkB0K",
        "outputId": "d85f25e9-d5cb-4d8e-f11b-cf1044c87e5e"
      },
      "execution_count": null,
      "outputs": [
        {
          "output_type": "stream",
          "name": "stdout",
          "text": [
            "[<class '__main__.Dog'>, <class '__main__.Mammal'>, <class '__main__.Animal'>, <class 'object'>]\n",
            "[<class '__main__.Mammal'>, <class '__main__.Animal'>, <class 'object'>]\n"
          ]
        }
      ]
    },
    {
      "cell_type": "markdown",
      "source": [
        "**Q 8.  8. Create an abstract base class `Shape` with an abstract method `area()`. Then create two subclasses\n",
        "`Circle` and `Rectangle` that implement the `area()` method.**\n",
        "\n",
        "\n",
        "**ANS 8. **  "
      ],
      "metadata": {
        "id": "ohYvCowqkX0m"
      }
    },
    {
      "cell_type": "code",
      "source": [
        "from abc import ABC, abstractmethod\n",
        "import math\n",
        "\n",
        "# Abstract base class Shape\n",
        "class Shape(ABC):\n",
        "    @abstractmethod\n",
        "    def area(self):\n",
        "        pass\n",
        "\n",
        "# Subclass Circle\n",
        "class Circle(Shape):\n",
        "    def __init__(self, radius):\n",
        "        self.radius = radius\n",
        "\n",
        "    def area(self):\n",
        "        return math.pi * (self.radius ** 2)\n",
        "\n",
        "# Subclass Rectangle\n",
        "class Rectangle(Shape):\n",
        "    def __init__(self, width, height):\n",
        "        self.width = width\n",
        "        self.height = height\n",
        "\n",
        "    def area(self):\n",
        "        return self.width * self.height\n"
      ],
      "metadata": {
        "id": "mYDfXmzvkYJf"
      },
      "execution_count": null,
      "outputs": []
    },
    {
      "cell_type": "code",
      "source": [
        "# Example :\n",
        "circle = Circle(6)\n",
        "print(f\"Circle area: {circle.area():.2f}\")\n",
        "\n",
        "rectangle = Rectangle(9, 6)\n",
        "print(f\"Rectangle area: {rectangle.area()}\")"
      ],
      "metadata": {
        "colab": {
          "base_uri": "https://localhost:8080/"
        },
        "id": "peqU-xm2kcd0",
        "outputId": "aa75d36b-670c-46ff-fe63-b59ec9910bca"
      },
      "execution_count": null,
      "outputs": [
        {
          "output_type": "stream",
          "name": "stdout",
          "text": [
            "Circle area: 113.10\n",
            "Rectangle area: 54\n"
          ]
        }
      ]
    },
    {
      "cell_type": "markdown",
      "source": [
        "**Q 9. Demonstrate polymorphism by creating a function that can work with different shape objects to calculate\n",
        "and print their areas.**"
      ],
      "metadata": {
        "id": "qUzqU2_4k1DD"
      }
    },
    {
      "cell_type": "code",
      "source": [
        "from abc import ABC, abstractmethod\n",
        "import math\n",
        "\n",
        "# Abstract base class Shape\n",
        "class Shape(ABC):\n",
        "    @abstractmethod\n",
        "    def area(self):\n",
        "        pass\n",
        "\n",
        "# Subclass Circle\n",
        "class Circle(Shape):\n",
        "    def __init__(self, radius):\n",
        "        self.radius = radius\n",
        "\n",
        "    def area(self):\n",
        "        return math.pi * (self.radius ** 2)\n",
        "\n",
        "# Subclass Rectangle\n",
        "class Rectangle(Shape):\n",
        "    def __init__(self, width, height):\n",
        "        self.width = width\n",
        "        self.height = height\n",
        "\n",
        "    def area(self):\n",
        "        return self.width * self.height\n",
        "\n",
        "# Function to calculate and print the area of a shape\n",
        "def calculate_area(shape: Shape):\n",
        "    print(f\"Area of {type(shape).__name__}: {shape.area():.2f}\")"
      ],
      "metadata": {
        "id": "8qcG9nwXk844"
      },
      "execution_count": null,
      "outputs": []
    },
    {
      "cell_type": "code",
      "source": [
        "# Example :\n",
        "circle = Circle(6)\n",
        "rectangle = Rectangle(9, 6)\n",
        "\n",
        "calculate_area(circle)\n",
        "calculate_area(rectangle)"
      ],
      "metadata": {
        "colab": {
          "base_uri": "https://localhost:8080/"
        },
        "id": "2qUW1iX-k9Yl",
        "outputId": "e41529d0-c1b3-416b-d6b5-d9f3600711e3"
      },
      "execution_count": null,
      "outputs": [
        {
          "output_type": "stream",
          "name": "stdout",
          "text": [
            "Area of Circle: 113.10\n",
            "Area of Rectangle: 54.00\n"
          ]
        }
      ]
    },
    {
      "cell_type": "markdown",
      "source": [
        "**Ques 10. Implement encapsulation in a `BankAccount` class with private attributes for `balance` and\n",
        "`account_number`. Include methods for deposit, withdrawal, and balance inquiry.**\n",
        "\n",
        "**ANS 10. **"
      ],
      "metadata": {
        "id": "G0ScHGEvlXWq"
      }
    },
    {
      "cell_type": "code",
      "source": [
        "class BankAccount:\n",
        "    def __init__(self, account_number, initial_balance):\n",
        "        self.__account_number = account_number\n",
        "        self.__balance = initial_balance\n",
        "\n",
        "    def deposit(self, amount):\n",
        "        if amount > 0:\n",
        "            self.__balance += amount\n",
        "            print(f\"Deposited ${amount:.2f}. New balance: ${self.__balance:.2f}\")\n",
        "        else:\n",
        "            print(\"Invalid deposit amount.\")\n",
        "\n",
        "    def withdraw(self, amount):\n",
        "        if 0 < amount <= self.__balance:\n",
        "            self.__balance -= amount\n",
        "            print(f\"Withdrew ${amount:.2f}. New balance: ${self.__balance:.2f}\")\n",
        "        elif amount <= 0:\n",
        "            print(\"Invalid withdrawal amount.\")\n",
        "        else:\n",
        "            print(\"Insufficient funds.\")\n",
        "\n",
        "    def get_balance(self):\n",
        "        return self.__balance\n",
        "\n",
        "    def get_account_number(self):\n",
        "        return self.__account_number"
      ],
      "metadata": {
        "id": "10xa8pHVlKCz"
      },
      "execution_count": null,
      "outputs": []
    },
    {
      "cell_type": "code",
      "source": [
        "# Example :\n",
        "account = BankAccount(\"1234567890\", 1000.0)\n",
        "print(f\"Account Number: {account.get_account_number()}\")\n",
        "print(f\"Initial Balance: ${account.get_balance():.2f}\")\n",
        "\n",
        "account.deposit(500.0)\n",
        "account.withdraw(200.0)\n",
        "account.withdraw(1500.0)  # Insufficient funds"
      ],
      "metadata": {
        "colab": {
          "base_uri": "https://localhost:8080/"
        },
        "id": "R0L7vssClNyc",
        "outputId": "cbf6a5e4-1882-41b4-8c45-e041d5d7ad62"
      },
      "execution_count": null,
      "outputs": [
        {
          "output_type": "stream",
          "name": "stdout",
          "text": [
            "Account Number: 1234567890\n",
            "Initial Balance: $1000.00\n",
            "Deposited $500.00. New balance: $1500.00\n",
            "Withdrew $200.00. New balance: $1300.00\n",
            "Insufficient funds.\n"
          ]
        }
      ]
    },
    {
      "cell_type": "markdown",
      "source": [
        "**Q 11.  Write a class that overrides the `__str__` and `__add__` magic methods. What will these methods allow\n",
        "you to do?**\n",
        "\n",
        "**ANS 11.**"
      ],
      "metadata": {
        "id": "FMphw234lv4y"
      }
    },
    {
      "cell_type": "code",
      "source": [
        "class Vector:\n",
        "    def __init__(self, x, y):\n",
        "        self.x = x\n",
        "        self.y = y\n",
        "\n",
        "    def __str__(self):\n",
        "        return f\"Vector({self.x}, {self.y})\"\n",
        "\n",
        "    def __add__(self, other):\n",
        "        if isinstance(other, Vector):\n",
        "            return Vector(self.x + other.x, self.y + other.y)\n",
        "        else:\n",
        "            raise TypeError(\"Unsupported operand type for +\")"
      ],
      "metadata": {
        "id": "vkyIK1e9lx7g"
      },
      "execution_count": null,
      "outputs": []
    },
    {
      "cell_type": "code",
      "source": [
        "# Example :\n",
        "v1 = Vector(2, 3)\n",
        "v2 = Vector(4, 5)\n",
        "\n",
        "print(v1)\n",
        "print(v2)\n",
        "\n",
        "v3 = v1 + v2\n",
        "print(v3)"
      ],
      "metadata": {
        "colab": {
          "base_uri": "https://localhost:8080/"
        },
        "id": "7mnDxfvolyXf",
        "outputId": "009e2e8f-8abe-4d9e-b7bf-f7356729a9c5"
      },
      "execution_count": null,
      "outputs": [
        {
          "output_type": "stream",
          "name": "stdout",
          "text": [
            "Vector(2, 3)\n",
            "Vector(4, 5)\n",
            "Vector(6, 8)\n"
          ]
        }
      ]
    },
    {
      "cell_type": "markdown",
      "source": [
        "**Q 12. Create a decorator that measures and prints the execution time of a function. **\n",
        "\n",
        "**ANS 12. **"
      ],
      "metadata": {
        "id": "dOW3N0tgySBv"
      }
    },
    {
      "cell_type": "code",
      "source": [
        "import time\n",
        "from functools import wraps\n",
        "\n",
        "def timer_decorator(func):\n",
        "    @wraps(func)\n",
        "    def wrapper(*args, **kwargs):\n",
        "        start_time = time.time()\n",
        "        result = func(*args, **kwargs)\n",
        "        end_time = time.time()\n",
        "        execution_time = end_time - start_time\n",
        "        print(f\"Function '{func.__name__}' executed in {execution_time:.4f} seconds.\")\n",
        "        return result\n",
        "    return wrapper"
      ],
      "metadata": {
        "id": "f7Hu0PK8l_E1"
      },
      "execution_count": null,
      "outputs": []
    },
    {
      "cell_type": "code",
      "source": [
        "# Example :\n",
        "@timer_decorator\n",
        "def example_function():\n",
        "    time.sleep(1)  # Simulate some work\n",
        "    print(\"Example function executed.\")\n",
        "\n",
        "example_function()"
      ],
      "metadata": {
        "colab": {
          "base_uri": "https://localhost:8080/"
        },
        "id": "UQtjp6x_l_-F",
        "outputId": "3df66ea3-ee8e-40e5-d962-081d71d43c11"
      },
      "execution_count": null,
      "outputs": [
        {
          "output_type": "stream",
          "name": "stdout",
          "text": [
            "Example function executed.\n",
            "Function 'example_function' executed in 1.0013 seconds.\n"
          ]
        }
      ]
    },
    {
      "cell_type": "markdown",
      "source": [
        "**Q 13. Explain the concept of the Diamond Problem in multiple inheritance. How does Python resolve it?**\n",
        "\n",
        "**ANS 13.** The Diamond Problem is a classic issue that arises in multiple inheritance, where a class inherits from two or more classes that have a common base class. This creates a diamond-shaped inheritance graph, where the base class is at the top, and the two intermediate classes are on either side, with the derived class at the bottom."
      ],
      "metadata": {
        "id": "z1wTt8-5ypPm"
      }
    },
    {
      "cell_type": "code",
      "source": [
        "#Here's an example of the Diamond Problem in Python:\n",
        "\n",
        "\n",
        "class A:\n",
        "    def method(self):\n",
        "        print(\"A's method\")\n",
        "\n",
        "class B(A):\n",
        "    def method(self):\n",
        "        print(\"B's method\")\n",
        "\n",
        "class C(A):\n",
        "    def method(self):\n",
        "        print(\"C's method\")\n",
        "\n",
        "class D(B, C):\n",
        "    pass"
      ],
      "metadata": {
        "id": "WmduWcmjmtqn"
      },
      "execution_count": null,
      "outputs": []
    },
    {
      "cell_type": "markdown",
      "source": [
        "In this example, class D inherits from both B and C, which in turn inherit from A. This creates a diamond-shaped inheritance graph:\n",
        "\n",
        "A / B C \\ / D\n",
        "\n",
        "Now, when we create an instance of D and call the method() function, which implementation should be used? This is the Diamond Problem.\n",
        "\n",
        "Python resolves the Diamond Problem using a technique called Method Resolution Order (MRO) or C3 Linearization. Here's how it works:\n",
        "\n",
        "Python creates a list of classes to search for the method, starting from the current class (D) and moving up the inheritance graph.\n",
        "\n",
        "When Python encounters a class that has multiple parents (like D), it uses the following rules to resolve the order:\n",
        "\n",
        "List the current class first. List the parents of the current class in the order they are defined. If a parent class is already listed, skip it. Python continues this process until it reaches the top of the inheritance graph (in this case, A).\n",
        "\n",
        "Once the MRO list is created, Python searches for the method in each class in the list, from left to right.\n",
        "\n",
        "In our example, the MRO list for class D would be:\n",
        "\n",
        "[D, B, C, A, object]\n",
        "\n",
        "So, when we call method() on an instance of D, Python will search for the method in the following order:\n",
        "\n",
        "D B C A object Since B defines a method(), that's the one that gets called."
      ],
      "metadata": {
        "id": "rfZuma7OzC-I"
      }
    },
    {
      "cell_type": "code",
      "source": [
        "#Here's the complete code with the MRO list printed:\n",
        "\n",
        "\n",
        "class A:\n",
        "    def method(self):\n",
        "        print(\"A's method\")\n",
        "\n",
        "class B(A):\n",
        "    def method(self):\n",
        "        print(\"B's method\")\n",
        "\n",
        "class C(A):\n",
        "    def method(self):\n",
        "        print(\"C's method\")\n",
        "\n",
        "class D(B, C):\n",
        "    pass\n",
        "\n",
        "print(D.mro())\n",
        "\n",
        "d = D()\n",
        "d.method()"
      ],
      "metadata": {
        "colab": {
          "base_uri": "https://localhost:8080/"
        },
        "id": "uYK8R_tHm7U_",
        "outputId": "7586d5a5-d591-40e0-c7e8-5107f2be8de8"
      },
      "execution_count": null,
      "outputs": [
        {
          "output_type": "stream",
          "name": "stdout",
          "text": [
            "[<class '__main__.D'>, <class '__main__.B'>, <class '__main__.C'>, <class '__main__.A'>, <class 'object'>]\n",
            "B's method\n"
          ]
        }
      ]
    },
    {
      "cell_type": "markdown",
      "source": [
        "**Q 14.  Write a class method that keeps track of the number of instances created from a class.**\n",
        "\n",
        "\n",
        "ANS 14."
      ],
      "metadata": {
        "id": "8PImPFTZzK7g"
      }
    },
    {
      "cell_type": "code",
      "source": [
        " class InstanceTracker:\n",
        "    num_instances = 0\n",
        "\n",
        "    def __init__(self):\n",
        "        InstanceTracker.num_instances += 1\n",
        "\n",
        "    @classmethod\n",
        "    def get_num_instances(cls):\n",
        "        return cls.num_instances\n",
        "tracker1 = InstanceTracker()\n",
        "print(InstanceTracker.get_num_instances())"
      ],
      "metadata": {
        "colab": {
          "base_uri": "https://localhost:8080/"
        },
        "id": "B-oR9UaNnM_N",
        "outputId": "2080e10a-27cd-4d46-f4e9-c8821e49810e"
      },
      "execution_count": 19,
      "outputs": [
        {
          "output_type": "stream",
          "name": "stdout",
          "text": [
            "1\n"
          ]
        }
      ]
    },
    {
      "cell_type": "code",
      "source": [
        "tracker2 = InstanceTracker()\n",
        "print(InstanceTracker.get_num_instances())"
      ],
      "metadata": {
        "colab": {
          "base_uri": "https://localhost:8080/"
        },
        "id": "4utKNUC4nPCP",
        "outputId": "00a474c7-dffd-4a37-997d-c19b4a6a034c"
      },
      "execution_count": 20,
      "outputs": [
        {
          "output_type": "stream",
          "name": "stdout",
          "text": [
            "2\n"
          ]
        }
      ]
    },
    {
      "cell_type": "markdown",
      "source": [
        "**Q 15.**  Implement a static method in a class that checks if a given year is a leap year.  \n",
        "\n",
        "**ANS 15. **"
      ],
      "metadata": {
        "id": "l5SjbrXN0s7o"
      }
    },
    {
      "cell_type": "code",
      "source": [
        "class LeapYearChecker:\n",
        "    @staticmethod\n",
        "    def is_leap_year(year):\n",
        "        return year % 4 == 0 and (year % 100 != 0 or year % 400 == 0)"
      ],
      "metadata": {
        "id": "MhfZkQjYnXWi"
      },
      "execution_count": null,
      "outputs": []
    },
    {
      "cell_type": "code",
      "source": [
        "# Example :\n",
        "print(LeapYearChecker.is_leap_year(2020))"
      ],
      "metadata": {
        "colab": {
          "base_uri": "https://localhost:8080/"
        },
        "id": "_ahTSCdUnbpJ",
        "outputId": "270bf8ef-5db3-4d5a-a1a6-dcc0e3311d57"
      },
      "execution_count": null,
      "outputs": [
        {
          "output_type": "stream",
          "name": "stdout",
          "text": [
            "True\n"
          ]
        }
      ]
    },
    {
      "cell_type": "code",
      "source": [
        "# Example :\n",
        "print(LeapYearChecker.is_leap_year(2024))"
      ],
      "metadata": {
        "colab": {
          "base_uri": "https://localhost:8080/"
        },
        "id": "fxxotapmnerc",
        "outputId": "d5735136-654b-4295-b6db-35b181ed9ac8"
      },
      "execution_count": null,
      "outputs": [
        {
          "output_type": "stream",
          "name": "stdout",
          "text": [
            "True\n"
          ]
        }
      ]
    },
    {
      "cell_type": "code",
      "source": [
        "# Example :\n",
        "print(LeapYearChecker.is_leap_year(2019))"
      ],
      "metadata": {
        "colab": {
          "base_uri": "https://localhost:8080/"
        },
        "id": "KoKhUyU2nipL",
        "outputId": "9a38edec-e02f-48d7-e71d-b89baae756c0"
      },
      "execution_count": null,
      "outputs": [
        {
          "output_type": "stream",
          "name": "stdout",
          "text": [
            "False\n"
          ]
        }
      ]
    }
  ]
}