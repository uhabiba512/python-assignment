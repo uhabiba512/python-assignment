{
  "nbformat": 4,
  "nbformat_minor": 0,
  "metadata": {
    "colab": {
      "provenance": []
    },
    "kernelspec": {
      "name": "python3",
      "display_name": "Python 3"
    },
    "language_info": {
      "name": "python"
    }
  },
  "cells": [
    {
      "cell_type": "markdown",
      "source": [
        "**Q1**. **Discuss string slicing and provide examples.**"
      ],
      "metadata": {
        "id": "x2AfSq4-TU5n"
      }
    },
    {
      "cell_type": "markdown",
      "source": [
        " **ANS 1.**  String slicing is a technique in Python used to extract a specific portion (or \"slice\") of a string based on its indices. Strings are sequences of characters, and slicing allows you to access a subset of these characters. The general syntax for slicing is:\n",
        "\n",
        "\n",
        " 1) start : The index where the slice begins (inclusive).\n",
        "\n",
        " 2) stop: The index where the slice ends (exclusive).\n",
        "\n",
        " 3) step: The interval between indices (optional).\n",
        "\n",
        " Python slicing can be done in two ways :-\n",
        "(i). using a slice() method (ii). using the array slicing [:: ] method\n",
        "\n",
        "Examples :-\n",
        "\n",
        "(a). Ommiting Start Index -"
      ],
      "metadata": {
        "id": "WbOCDS2QUATd"
      }
    },
    {
      "cell_type": "code",
      "execution_count": 1,
      "metadata": {
        "colab": {
          "base_uri": "https://localhost:8080/",
          "height": 36
        },
        "id": "keTGX5nWSvtU",
        "outputId": "f29ad71b-b080-4425-c1ab-215e67bada5c"
      },
      "outputs": [
        {
          "output_type": "execute_result",
          "data": {
            "text/plain": [
              "'Hello'"
            ],
            "application/vnd.google.colaboratory.intrinsic+json": {
              "type": "string"
            }
          },
          "metadata": {},
          "execution_count": 1
        }
      ],
      "source": [
        "\"Hello world\" [ :5]"
      ]
    },
    {
      "cell_type": "markdown",
      "source": [
        "(b). Omitting End Index-"
      ],
      "metadata": {
        "id": "2rHFM7wKVsbK"
      }
    },
    {
      "cell_type": "code",
      "source": [
        "\"Hello World!\" [ 6:]"
      ],
      "metadata": {
        "colab": {
          "base_uri": "https://localhost:8080/",
          "height": 36
        },
        "id": "mpWXAYmsVl6d",
        "outputId": "797bb9cb-bd4a-4f28-970a-a9a46be90d8c"
      },
      "execution_count": 2,
      "outputs": [
        {
          "output_type": "execute_result",
          "data": {
            "text/plain": [
              "'World!'"
            ],
            "application/vnd.google.colaboratory.intrinsic+json": {
              "type": "string"
            }
          },
          "metadata": {},
          "execution_count": 2
        }
      ]
    },
    {
      "cell_type": "markdown",
      "source": [
        "(c).Reversing a String -"
      ],
      "metadata": {
        "id": "7G36y0uDWI4a"
      }
    },
    {
      "cell_type": "code",
      "source": [
        "\"Hello World!\" [:: -1]"
      ],
      "metadata": {
        "colab": {
          "base_uri": "https://localhost:8080/",
          "height": 36
        },
        "id": "Fqea_77HWFyo",
        "outputId": "98fee347-c3fd-499d-942c-fcb960df5387"
      },
      "execution_count": 3,
      "outputs": [
        {
          "output_type": "execute_result",
          "data": {
            "text/plain": [
              "'!dlroW olleH'"
            ],
            "application/vnd.google.colaboratory.intrinsic+json": {
              "type": "string"
            }
          },
          "metadata": {},
          "execution_count": 3
        }
      ]
    },
    {
      "cell_type": "markdown",
      "source": [
        "(d). Python Example:-"
      ],
      "metadata": {
        "id": "vLLFCgu1Wdhg"
      }
    },
    {
      "cell_type": "code",
      "source": [
        "my_string = \"Hello World!\"\n",
        "print (my_string [0:5])"
      ],
      "metadata": {
        "colab": {
          "base_uri": "https://localhost:8080/"
        },
        "id": "itiSskkNWYIO",
        "outputId": "7b4f0723-a725-4677-99b2-84ecb87d0bf1"
      },
      "execution_count": 4,
      "outputs": [
        {
          "output_type": "stream",
          "name": "stdout",
          "text": [
            "Hello\n"
          ]
        }
      ]
    },
    {
      "cell_type": "markdown",
      "source": [
        "**Q.2. Explain the key features of Lists in Python.**"
      ],
      "metadata": {
        "id": "-Nik7kevW7tD"
      }
    },
    {
      "cell_type": "markdown",
      "source": [
        "**ANS 2.**  Ans. A list in Python is a versatile and widely used data structure that allows you to store and manipulate an ordered collection of items. Lists are fundamental data structure. They offer powerful features for data manipulation.A List is a collection of things enclosed in [ ] and separated by commas.\n",
        "\n",
        "Some of the features of Lists are as follows :-\n",
        "(a). Python Lists are just like dynamically sized arrays, declared in other languages like :- vector in C++ and ArrayList in Java.\n",
        "\n",
        "(b). Lists are the most powerful tool in Python.One of its reason is that it need not be homogeneous always.\n",
        "\n",
        "(c). Elements can be added to the List by using the built in append () method. Only one element at a time can be added to the list by this method.\n",
        "\n",
        "(d). Inserting, Removing, Reversing, Slicing etc. can also be done in Lists.\n",
        "\n",
        "(e). Different methods like :- append ( ), extend ( ), insert ( ), remove ( ), pop ( ) are used in Lists.\n",
        "\n",
        "Example :-\n",
        "\n",
        "Creating a List in Python :-"
      ],
      "metadata": {
        "id": "uuok73MyXB7T"
      }
    },
    {
      "cell_type": "code",
      "source": [
        "my_list =  [1, 2, 3, \"Habiba\", 4.5]\n",
        "print (my_list)"
      ],
      "metadata": {
        "colab": {
          "base_uri": "https://localhost:8080/"
        },
        "id": "s3ez8xtnWylA",
        "outputId": "e419c5cc-892f-4f38-f054-adb4672355ce"
      },
      "execution_count": 8,
      "outputs": [
        {
          "output_type": "stream",
          "name": "stdout",
          "text": [
            "[1, 2, 3, 'Habiba', 4.5]\n"
          ]
        }
      ]
    },
    {
      "cell_type": "markdown",
      "source": [
        "**Q.3. Describe how to access,modify and delete elements in a list with examples.**"
      ],
      "metadata": {
        "id": "XK6BEIAeYOaY"
      }
    },
    {
      "cell_type": "markdown",
      "source": [
        "**ANS 3.**  Accessing, Modifying, and Deleting Elements in a List\n",
        "Lists in Python provide straightforward ways to access, modify, and delete elements using indexing, slicing, and built-in methods.\n",
        "\n",
        "Accessing Elements in Lists - In order to access the list items refer to the index number.Use the index operator [ ] to access an item in a list. The index must be an integer."
      ],
      "metadata": {
        "id": "GQyE7fUCYTPE"
      }
    },
    {
      "cell_type": "code",
      "source": [
        "# Creating a List with\n",
        "# the use of multiple values\n",
        "List= [ 1, 2, 3, 4]\n",
        "#accessing an element for the\n",
        "# list using index number\n",
        "print (\"Accessing a element from the list\")\n",
        "print (List [0])\n",
        "print (List [3])"
      ],
      "metadata": {
        "colab": {
          "base_uri": "https://localhost:8080/"
        },
        "id": "Vl0zmWb7SLlp",
        "outputId": "6e5b2a8d-13d9-4a6d-954a-010029250be3"
      },
      "execution_count": 11,
      "outputs": [
        {
          "output_type": "stream",
          "name": "stdout",
          "text": [
            "Accessing a element from the list\n",
            "1\n",
            "4\n"
          ]
        }
      ]
    },
    {
      "cell_type": "markdown",
      "source": [
        "Delelting elements from Lists - Elements can be deleted from Lists using built-in remove() function as :-"
      ],
      "metadata": {
        "id": "HwVcoa5GZMT7"
      }
    },
    {
      "cell_type": "code",
      "source": [
        "# Creating a List\n",
        "List = [1,2,3,4,5,6,7,8,9,10]\n",
        "print (\"Initial List: \")\n",
        "print (List)\n",
        "\n",
        "# Removing elements from List\n",
        "# using Remove () method\n",
        "List. remove (4)\n",
        "List. remove (5)\n",
        "print(\"\\n List after removal of two elements: \")\n",
        "print (List)"
      ],
      "metadata": {
        "colab": {
          "base_uri": "https://localhost:8080/"
        },
        "id": "LxyqzaQCUXWc",
        "outputId": "9acc8d34-088e-41f4-93c9-ee3ae884fbe5"
      },
      "execution_count": 12,
      "outputs": [
        {
          "output_type": "stream",
          "name": "stdout",
          "text": [
            "Initial List: \n",
            "[1, 2, 3, 4, 5, 6, 7, 8, 9, 10]\n",
            "\n",
            " List after removal of two elements: \n",
            "[1, 2, 3, 6, 7, 8, 9, 10]\n"
          ]
        }
      ]
    },
    {
      "cell_type": "markdown",
      "source": [
        "Elements can also be deleted from list using pop() method as-"
      ],
      "metadata": {
        "id": "tqGTC0G9ZmFB"
      }
    },
    {
      "cell_type": "code",
      "source": [
        "List = [1,2,3,4,5]\n",
        "# Removing element from the\n",
        "# Set using the pop( ) method\n",
        "List. pop()\n",
        "print(\"\\n List after popping an element:\")\n",
        "print (List)"
      ],
      "metadata": {
        "colab": {
          "base_uri": "https://localhost:8080/"
        },
        "id": "10exxKfkVckS",
        "outputId": "0083af3d-d0bc-494b-d314-32656157e3f7"
      },
      "execution_count": null,
      "outputs": [
        {
          "output_type": "stream",
          "name": "stdout",
          "text": [
            "\n",
            " List after popping an element:\n",
            "[1, 2, 3, 4]\n"
          ]
        }
      ]
    },
    {
      "cell_type": "markdown",
      "source": [
        "Modifying elements in Lists- We can assign new value in a List or insert elements at a specific index or append ( means adding elements to the end) or extend the number of elements in a List. These are the modifications that can be done in Lists."
      ],
      "metadata": {
        "id": "YI4-W4hCZ_Dj"
      }
    },
    {
      "cell_type": "code",
      "source": [
        "my_list = [1,2,3,4,5]\n",
        "my_list [0]=8\n",
        "print (my_list)"
      ],
      "metadata": {
        "colab": {
          "base_uri": "https://localhost:8080/"
        },
        "id": "MBIiD0iEXKc9",
        "outputId": "f2ad26ad-b88f-4805-9005-b65779ed2bd2"
      },
      "execution_count": 13,
      "outputs": [
        {
          "output_type": "stream",
          "name": "stdout",
          "text": [
            "[8, 2, 3, 4, 5]\n"
          ]
        }
      ]
    },
    {
      "cell_type": "code",
      "source": [
        "my_list=[1,2,3,4]\n",
        "my_list.append(4)\n",
        "print(my_list)"
      ],
      "metadata": {
        "colab": {
          "base_uri": "https://localhost:8080/"
        },
        "id": "TYZDmeNXXo0J",
        "outputId": "31cebee8-9748-4981-b7e6-ba68995a9e4a"
      },
      "execution_count": 17,
      "outputs": [
        {
          "output_type": "stream",
          "name": "stdout",
          "text": [
            "[1, 2, 3, 4, 4]\n"
          ]
        }
      ]
    },
    {
      "cell_type": "markdown",
      "source": [
        "**Q4. Compare and contrast Tuples with lists and examples.**"
      ],
      "metadata": {
        "id": "LRfkTcjCaAiD"
      }
    },
    {
      "cell_type": "markdown",
      "source": [
        "**ANS 4.**  Ans. Lists and tuples are two classes Python Data Structures.There are some similarities and some differences between Lists and Tuples which can be seen below :-\n",
        "\n",
        "Similarities :-\n",
        "\n",
        "(a). Lists and Tuples both store multiple values.\n",
        "\n",
        "(b). Both are ordered collections.\n",
        "\n",
        "(c). Both support indexing, slicing and iteration.\n",
        "\n",
        "Differences :-\n",
        "\n",
        "(a). List is dynamic in nature whereas Tuple is static and can't be changed.\n",
        "\n",
        "(b). Tuples are immutable but Lists are mutable.\n",
        "\n",
        "(c). Tuples use parantheses ( ) but Lists use brackets [ ].\n",
        "\n",
        "Examples :-"
      ],
      "metadata": {
        "id": "frvI7-dEbBQF"
      }
    },
    {
      "cell_type": "code",
      "source": [
        "my_tuple = (1,2,3,4,5,)\n",
        "print (my_tuple [ :4])"
      ],
      "metadata": {
        "colab": {
          "base_uri": "https://localhost:8080/"
        },
        "id": "bgXEhpyBZ95v",
        "outputId": "0767022c-edfa-4b07-fc96-1caf7906ae79"
      },
      "execution_count": 18,
      "outputs": [
        {
          "output_type": "stream",
          "name": "stdout",
          "text": [
            "(1, 2, 3, 4)\n"
          ]
        }
      ]
    },
    {
      "cell_type": "code",
      "source": [
        "my_list = [1,2,3,4,5]\n",
        "print (my_list[2])"
      ],
      "metadata": {
        "colab": {
          "base_uri": "https://localhost:8080/"
        },
        "id": "-mDZpnrIbtPW",
        "outputId": "0791339b-427d-49a1-b18a-c2bed91e6249"
      },
      "execution_count": 19,
      "outputs": [
        {
          "output_type": "stream",
          "name": "stdout",
          "text": [
            "3\n"
          ]
        }
      ]
    },
    {
      "cell_type": "markdown",
      "source": [
        "**Q 5. Describe the key features of sets and provide examples of their use.**"
      ],
      "metadata": {
        "id": "XNBteQWibv3G"
      }
    },
    {
      "cell_type": "markdown",
      "source": [
        "**ANS 5.**  A set in python is an unordered collection of unique elements. Sets are a fundamental data structure in Python which offer efficient and powerful features for managing unique elements.Some of the key features of sts and their examples are given below :-\n",
        "(a). Sets are unordered collection of unique elements.\n",
        "\n",
        "(b). No duplicate or repeated elements are allowed in sets.\n",
        "\n",
        "(c). There is support for mathematical operations such as union, intersection, difference.\n",
        "\n",
        "(d). They are mutable.\n",
        "\n",
        "(e). Sets provide efficient and powerful features for managing unique elements.\n",
        "\n",
        "Some examples are :-\n",
        "\n",
        "1. Union of Sets -"
      ],
      "metadata": {
        "id": "NtN6lzoXb88V"
      }
    },
    {
      "cell_type": "code",
      "source": [
        "# Python Program to\n",
        "# demonstrate union of\n",
        "# two sets\n",
        "\n",
        "people = {\"Afifa\", \"Habiba\", \"Mustafa\"}\n",
        "vampires = {\"Talha\", \"Hanzala\"}\n",
        "dracula = {\"Hira\", \"Saad\"}\n",
        "\n",
        "# Union using union()\n",
        "# function\n",
        "population = people.union(vampires)\n",
        "\n",
        "print(\"Union using union() function\")\n",
        "print(population)\n",
        "\n",
        "# Union using \"|\"\n",
        "# operator\n",
        "population = people|dracula\n",
        "\n",
        "print(\"\\nUnion using '|' operator\")\n",
        "print(population)\n"
      ],
      "metadata": {
        "colab": {
          "base_uri": "https://localhost:8080/"
        },
        "id": "Swt8-lqsflDE",
        "outputId": "b9de160a-2507-4e62-bf94-a07a4ba3a9b2"
      },
      "execution_count": 20,
      "outputs": [
        {
          "output_type": "stream",
          "name": "stdout",
          "text": [
            "Union using union() function\n",
            "{'Mustafa', 'Talha', 'Hanzala', 'Habiba', 'Afifa'}\n",
            "\n",
            "Union using '|' operator\n",
            "{'Mustafa', 'Saad', 'Hira', 'Habiba', 'Afifa'}\n"
          ]
        }
      ]
    },
    {
      "cell_type": "markdown",
      "source": [
        "2. Intersection of Sets-"
      ],
      "metadata": {
        "id": "njaNO7YpdW37"
      }
    },
    {
      "cell_type": "code",
      "source": [
        "# Python program to\n",
        "# demonstrate intersection\n",
        "# of two sets\n",
        "\n",
        "set1 = set()\n",
        "set2 = set()\n",
        "\n",
        "for i in range(5):\n",
        "    set1.add(i)\n",
        "\n",
        "for i in range(3,9):\n",
        "    set2.add(i)\n",
        "\n",
        "# Intersection using\n",
        "# intersection() function\n",
        "set3 = set1.intersection(set2)\n",
        "\n",
        "print(\"Intersection using intersection() function\")\n",
        "print(set3)\n",
        "\n",
        "# Intersection using\n",
        "# \"&\" operator\n",
        "set3 = set1 & set2\n",
        "\n",
        "print(\"\\nIntersection using '&' operator\")\n",
        "print(set3)\n"
      ],
      "metadata": {
        "colab": {
          "base_uri": "https://localhost:8080/"
        },
        "id": "P_eZc2qjf80H",
        "outputId": "778ea484-14a7-4ba2-ac14-ea90a602d4ea"
      },
      "execution_count": null,
      "outputs": [
        {
          "output_type": "stream",
          "name": "stdout",
          "text": [
            "Intersection using intersection() function\n",
            "{3, 4}\n",
            "\n",
            "Intersection using '&' operator\n",
            "{3, 4}\n"
          ]
        }
      ]
    },
    {
      "cell_type": "markdown",
      "source": [
        "3. Difference of sets-"
      ],
      "metadata": {
        "id": "Z3GNZ-t4dk75"
      }
    },
    {
      "cell_type": "code",
      "source": [
        "# Python program to\n",
        "# demonstrate difference\n",
        "# of two sets\n",
        "\n",
        "set1 = set()\n",
        "set2 = set()\n",
        "\n",
        "for i in range(5):\n",
        "    set1.add(i)\n",
        "\n",
        "for i in range(3,9):\n",
        "    set2.add(i)\n",
        "\n",
        "# Difference of two sets\n",
        "# using difference() function\n",
        "set3 = set1.difference(set2)\n",
        "\n",
        "print(\" Difference of two sets using difference() function\")\n",
        "print(set3)\n",
        "\n",
        "# Difference of two sets\n",
        "# using '-' operator\n",
        "set3 = set1 - set2\n",
        "\n",
        "print(\"\\nDifference of two sets using '-' operator\")\n",
        "print(set3)\n"
      ],
      "metadata": {
        "colab": {
          "base_uri": "https://localhost:8080/"
        },
        "id": "N1zzKpZ0gHTl",
        "outputId": "1a5c6368-8152-404e-a21a-3c33e065c63d"
      },
      "execution_count": null,
      "outputs": [
        {
          "output_type": "stream",
          "name": "stdout",
          "text": [
            " Difference of two sets using difference() function\n",
            "{0, 1, 2}\n",
            "\n",
            "Difference of two sets using '-' operator\n",
            "{0, 1, 2}\n"
          ]
        }
      ]
    },
    {
      "cell_type": "markdown",
      "source": [
        "**Q.6. Discuss the use case of tuples and sets in Python programming.**"
      ],
      "metadata": {
        "id": "e_6wmmlxd3S4"
      }
    },
    {
      "cell_type": "markdown",
      "source": [
        "**ANS 6.**  Tuples are immutable and ordered collection of values.\n",
        "\n",
        "Use cases of tuples are :-\n",
        "\n",
        "\n",
        "(a). it stores data that should not change.\n",
        "\n",
        "(b). used for passing multiple to functions.\n",
        "\n",
        "(c). used to represent rows in a database or items in a list.\n",
        "\n",
        "(d). tuples are used as keys in dictionaries.\n",
        "\n",
        "Sets are unordered collection of unique values.\n",
        "\n",
        "Use cases of sets are :-\n",
        "\n",
        "(a). remove duplicates from lists.\n",
        "\n",
        "(b). to check if an element exists.\n",
        "\n",
        "(c). to perform set operations like union,intersection, difference.\n",
        "\n",
        "(d). improves query performance.\n",
        "\n",
        "Examples :-\n",
        "\n",
        "Using tuples as dictionary keys -"
      ],
      "metadata": {
        "id": "r7_iDaCGeAZT"
      }
    },
    {
      "cell_type": "code",
      "source": [
        "data = {(4,5): \"value 1\", (6, 7): \"value 2\"}\n",
        "print(data[(4,5)])"
      ],
      "metadata": {
        "colab": {
          "base_uri": "https://localhost:8080/"
        },
        "id": "UtmecNfld3DJ",
        "outputId": "563c4bf2-d3c4-4a28-be50-6f3c3043abe7"
      },
      "execution_count": 23,
      "outputs": [
        {
          "output_type": "stream",
          "name": "stdout",
          "text": [
            "value 1\n"
          ]
        }
      ]
    },
    {
      "cell_type": "markdown",
      "source": [
        "Using sets for removing duplicates -"
      ],
      "metadata": {
        "id": "QE_N0a5vflMv"
      }
    },
    {
      "cell_type": "code",
      "source": [
        "names = [\"Afifa\",\"Habiba\",\"Afifa\"]\n",
        "unique_names=set(names)\n",
        "print(unique_names)"
      ],
      "metadata": {
        "colab": {
          "base_uri": "https://localhost:8080/"
        },
        "id": "KzFoxJorkSZI",
        "outputId": "36556b83-5529-4a5e-d760-cb76e37bcb2f"
      },
      "execution_count": 25,
      "outputs": [
        {
          "output_type": "stream",
          "name": "stdout",
          "text": [
            "{'Habiba', 'Afifa'}\n"
          ]
        }
      ]
    },
    {
      "cell_type": "markdown",
      "source": [
        "**Q7. Describe how to add, modify and delete items in a dictionary with examples.**"
      ],
      "metadata": {
        "id": "ehcpW3TagAQe"
      }
    },
    {
      "cell_type": "markdown",
      "source": [
        "**ANS 7.**  Given below is mentioned how to add, modify and delete items in a dictionary :-\n",
        "\n",
        "(a). Adding items in a dictionary -\n",
        "\n",
        "1. update ( ) method :"
      ],
      "metadata": {
        "id": "QyjxHudHgib6"
      }
    },
    {
      "cell_type": "code",
      "source": [
        "my_dict={\"name\":\"Habiba\",\"age\":22}\n",
        "my_dict.update({\"country\":\"India\",\"city\":\"Kanpur\"})\n",
        "print(my_dict)"
      ],
      "metadata": {
        "colab": {
          "base_uri": "https://localhost:8080/"
        },
        "id": "zej4KvcPmf2f",
        "outputId": "80f99c0c-a530-4c63-cd44-8e892db6e4d1"
      },
      "execution_count": 27,
      "outputs": [
        {
          "output_type": "stream",
          "name": "stdout",
          "text": [
            "{'name': 'Habiba', 'age': 22, 'country': 'India', 'city': 'Kanpur'}\n"
          ]
        }
      ]
    },
    {
      "cell_type": "markdown",
      "source": [
        "2. setdefault ( ) method -"
      ],
      "metadata": {
        "id": "Be_IRYB7hAdR"
      }
    },
    {
      "cell_type": "code",
      "source": [
        "my_dict={\"name\":\"Habiba\",\"age\":22}\n",
        "my_dict.setdefault(\"country\",\"India\")\n",
        "print(my_dict)"
      ],
      "metadata": {
        "colab": {
          "base_uri": "https://localhost:8080/"
        },
        "id": "iqudyfOXnJjD",
        "outputId": "8e6b9ac2-f2e8-4666-d2c8-eafed75b6b5a"
      },
      "execution_count": 28,
      "outputs": [
        {
          "output_type": "stream",
          "name": "stdout",
          "text": [
            "{'name': 'Habiba', 'age': 22, 'country': 'India'}\n"
          ]
        }
      ]
    },
    {
      "cell_type": "markdown",
      "source": [
        "(b). Modifying items in a dictionary -\n",
        "\n",
        "1. update ( ) method :"
      ],
      "metadata": {
        "id": "ibk7qQnghbI7"
      }
    },
    {
      "cell_type": "code",
      "source": [
        "my_dict = {\"name\": \"Afiffaa\", \"age\": 24}\n",
        "my_dict.update({\"age\": 23, \"name\": \"Afifa\"})\n",
        "print(my_dict)"
      ],
      "metadata": {
        "colab": {
          "base_uri": "https://localhost:8080/"
        },
        "id": "8V9f3HpmnzDJ",
        "outputId": "0ace9191-41a4-48cb-ba18-a5cb14ae89b6"
      },
      "execution_count": 29,
      "outputs": [
        {
          "output_type": "stream",
          "name": "stdout",
          "text": [
            "{'name': 'Afifa', 'age': 23}\n"
          ]
        }
      ]
    },
    {
      "cell_type": "markdown",
      "source": [
        "(c). Deleting items in a dictionary -\n",
        "\n",
        "1. pop ( ) method : removes last inserted item."
      ],
      "metadata": {
        "id": "3ZRDAELih5hz"
      }
    },
    {
      "cell_type": "code",
      "source": [
        "my_dict = {\"name\": \"Habiba\", \"age\": 22}\n",
        "my_dict.pop(\"age\")\n",
        "print(my_dict)"
      ],
      "metadata": {
        "colab": {
          "base_uri": "https://localhost:8080/"
        },
        "id": "N0kY-Fk5o93H",
        "outputId": "92887d64-db82-44fb-e781-27c43fed835a"
      },
      "execution_count": 30,
      "outputs": [
        {
          "output_type": "stream",
          "name": "stdout",
          "text": [
            "{'name': 'Habiba'}\n"
          ]
        }
      ]
    },
    {
      "cell_type": "markdown",
      "source": [
        "2. clear ( ) method : used for removing all the items."
      ],
      "metadata": {
        "id": "oz7MFv5kiKTg"
      }
    },
    {
      "cell_type": "code",
      "source": [
        "my_dict = {\"name\": \"Habiba\", \"age\": 22}\n",
        "my_dict.clear()\n",
        "print(my_dict)"
      ],
      "metadata": {
        "colab": {
          "base_uri": "https://localhost:8080/"
        },
        "id": "LjYBlG1fpiY-",
        "outputId": "b45c83a3-746b-40fd-aab2-cceedabde0b1"
      },
      "execution_count": 31,
      "outputs": [
        {
          "output_type": "stream",
          "name": "stdout",
          "text": [
            "{}\n"
          ]
        }
      ]
    },
    {
      "cell_type": "markdown",
      "source": [
        "**Q.8. Discuss the importance of dictionary keys being immutable and provide examples.**"
      ],
      "metadata": {
        "id": "cOPIcKB8i2ey"
      }
    },
    {
      "cell_type": "markdown",
      "source": [
        "**ANS 8. **  \n",
        "Importance of Dictionary Keys Being Immutable\n",
        "In Python, dictionary keys must be immutable. This requirement is essential for efficient key lookup, storage, and ensuring the integrity of the data structure. Below are the reasons why dictionary keys are required to be immutable, along with examples.\n",
        "\n",
        "(a). Hashing :- dictionary keys are hashed for efficiency.Immutable keys ensure consistent hash values for fast and reliable key retrievals.\n",
        "\n",
        "(b). Uniqueness :- Immutability guarantees unique keys and prevents accidental key duplication.\n",
        "\n",
        "(c). Predictability :- Immutable keys simplifies debugging and maintenance.\n",
        "\n",
        "There are different types of immutable keys used :-\n",
        "\n",
        "1. Integers (int) :1,2,3 etc.\n",
        "\n",
        "2. Floats (float) : 3.14,-0.15,etc.\n",
        "\n",
        "3. Strings (str) : \"hello\", \"world\", etc.\n",
        "\n",
        "4. tuples :(1,2,3), (a,b,c), etc.\n",
        "\n",
        "Some operations of immutable keys are stated below :-\n",
        "\n",
        "1. Using tuples as keys -"
      ],
      "metadata": {
        "id": "ausLVKvdi_BL"
      }
    },
    {
      "cell_type": "code",
      "source": [
        "my_tuple=(1,2,3)\n",
        "my_dict={my_tuple:\"value\"}\n",
        "print(my_dict[my_tuple])"
      ],
      "metadata": {
        "colab": {
          "base_uri": "https://localhost:8080/"
        },
        "id": "S0ITKVOqtT4k",
        "outputId": "b162a178-be6f-4ad0-f154-a49d6e930e6a"
      },
      "execution_count": null,
      "outputs": [
        {
          "output_type": "stream",
          "name": "stdout",
          "text": [
            "value\n"
          ]
        }
      ]
    },
    {
      "cell_type": "markdown",
      "source": [
        "2. converting mutable keys into immutable-"
      ],
      "metadata": {
        "id": "RUqF6cK8kJaj"
      }
    },
    {
      "cell_type": "code",
      "source": [
        "my_list=[1,2,3]\n",
        "my_tuple=tuple(my_list)  #Convert list to tuple\n",
        "my_dict={my_tuple:\"answer\"}\n",
        "print(my_dict[my_tuple])"
      ],
      "metadata": {
        "colab": {
          "base_uri": "https://localhost:8080/"
        },
        "id": "y3HjsJNot7rz",
        "outputId": "b2a50756-0143-4463-9d59-6e2cdb7b7d66"
      },
      "execution_count": 32,
      "outputs": [
        {
          "output_type": "stream",
          "name": "stdout",
          "text": [
            "answer\n"
          ]
        }
      ]
    },
    {
      "cell_type": "markdown",
      "source": [
        "3. Attempting to use mutable keys-"
      ],
      "metadata": {
        "id": "Nn38R0yEkWvy"
      }
    },
    {
      "cell_type": "code",
      "source": [
        "my_list=[1,2,3]\n",
        "my_dict={my_list:\"value\"}"
      ],
      "metadata": {
        "colab": {
          "base_uri": "https://localhost:8080/",
          "height": 158
        },
        "id": "rOasOfSvungO",
        "outputId": "566bded3-479f-441a-a115-4ed34b6c2392"
      },
      "execution_count": null,
      "outputs": [
        {
          "output_type": "error",
          "ename": "TypeError",
          "evalue": "unhashable type: 'list'",
          "traceback": [
            "\u001b[0;31m---------------------------------------------------------------------------\u001b[0m",
            "\u001b[0;31mTypeError\u001b[0m                                 Traceback (most recent call last)",
            "\u001b[0;32m<ipython-input-37-8552c465d604>\u001b[0m in \u001b[0;36m<cell line: 2>\u001b[0;34m()\u001b[0m\n\u001b[1;32m      1\u001b[0m \u001b[0mmy_list\u001b[0m\u001b[0;34m=\u001b[0m\u001b[0;34m[\u001b[0m\u001b[0;36m1\u001b[0m\u001b[0;34m,\u001b[0m\u001b[0;36m2\u001b[0m\u001b[0;34m,\u001b[0m\u001b[0;36m3\u001b[0m\u001b[0;34m]\u001b[0m\u001b[0;34m\u001b[0m\u001b[0;34m\u001b[0m\u001b[0m\n\u001b[0;32m----> 2\u001b[0;31m \u001b[0mmy_dict\u001b[0m\u001b[0;34m=\u001b[0m\u001b[0;34m{\u001b[0m\u001b[0mmy_list\u001b[0m\u001b[0;34m:\u001b[0m\u001b[0;34m\"value\"\u001b[0m\u001b[0;34m}\u001b[0m\u001b[0;34m\u001b[0m\u001b[0;34m\u001b[0m\u001b[0m\n\u001b[0m",
            "\u001b[0;31mTypeError\u001b[0m: unhashable type: 'list'"
          ]
        }
      ]
    },
    {
      "cell_type": "markdown",
      "source": [
        "from above code we can see that when we try to use mutable keys, we get an Error."
      ],
      "metadata": {
        "id": "t_b21EirkmAP"
      }
    }
  ]
}