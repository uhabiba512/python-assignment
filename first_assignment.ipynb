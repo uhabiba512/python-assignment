{
  "nbformat": 4,
  "nbformat_minor": 0,
  "metadata": {
    "colab": {
      "provenance": []
    },
    "kernelspec": {
      "name": "python3",
      "display_name": "Python 3"
    },
    "language_info": {
      "name": "python"
    }
  },
  "cells": [
    {
      "cell_type": "markdown",
      "source": [
        "**Q1.** Explain the key features of python that make it a popular choice for programming."
      ],
      "metadata": {
        "id": "1RQTzwy-NHnO"
      }
    },
    {
      "cell_type": "code",
      "source": [
        "#ANS 1. The key features of pyhton that make it a popular choice for programming are as follows :\n",
        "\n",
        "#1) It is easy to read and learn. python's simple syntax and straightforward structure make it a good choice for programming. It's commands are based in english and it makes the code easy to reaad.\n",
        "#2) Pyton is versatile, this language can be used for a wide range of application including web development ,data analysis, artificial intelligence,etc.\n",
        "#3) Python has an open source nature thatleads to a large system of libraries and framework for tasks.\n",
        "#4) Python has a large and active community of developers who contibutes to its improvement and provide resources and assistance.\n",
        "#5) Python widespread is used in various industries that make it a valuable skill for developers.\n",
        "#6) Python integration capabilities with other language and tools further enhance its usability across various industries."
      ],
      "metadata": {
        "id": "qSD089B_N2iX"
      },
      "execution_count": null,
      "outputs": []
    },
    {
      "cell_type": "markdown",
      "source": [
        "**Q2**. Describe the role of predefined keywords in python and provide examples of how they are used in a program."
      ],
      "metadata": {
        "id": "v2yfZZRGTG4u"
      }
    },
    {
      "cell_type": "markdown",
      "source": [
        "**ANS** **2**. In python, predefined keywords also called reserve words are special words that have special meaning and are part of the python syntax. these words cannot be used as identifiers like variable names, function names or class names because they are reserved by the language for a particular purpose. Keywords are esssential to the structure and behavior of python programs as they define the language's syntax and control flow.\n",
        "\n",
        "Example : Print is only used to print a statement, it cannot be used as identifier"
      ],
      "metadata": {
        "id": "7NAn6mrsTxck"
      }
    },
    {
      "cell_type": "code",
      "source": [
        "print(\"helllo everyone\")"
      ],
      "metadata": {
        "colab": {
          "base_uri": "https://localhost:8080/"
        },
        "id": "Z8KahWxnXz_M",
        "outputId": "e2f65154-14b3-4b1e-cc5c-9e07cfc4eabc"
      },
      "execution_count": null,
      "outputs": [
        {
          "output_type": "stream",
          "name": "stdout",
          "text": [
            "helllo everyone\n"
          ]
        }
      ]
    },
    {
      "cell_type": "markdown",
      "source": [
        "**Q3.** Compare and contrast mutable and immutable objects in python with examples."
      ],
      "metadata": {
        "id": "EckYdHZuZNI-"
      }
    },
    {
      "cell_type": "markdown",
      "source": [
        "**ANS 3.** In Python, objects are classified as either mutable or immutable based on whether their values can be modified after they are created.\n",
        "\n",
        "Mutable Objects\n",
        "\n",
        "Mutable objects can be modified after they are created. You can change their contents without changing their identity (address in memory). Common examples include lists, dictionaries, and sets."
      ],
      "metadata": {
        "id": "fHj4_gFaZfkw"
      }
    },
    {
      "cell_type": "code",
      "source": [
        "#MUTABLE OBJECTS\n",
        "#LIST\n",
        "list_cont = [ 1, 2, 3, 4+5j, \"Habiba\"]\n",
        "list_cont"
      ],
      "metadata": {
        "colab": {
          "base_uri": "https://localhost:8080/"
        },
        "id": "drbi2suXa_yI",
        "outputId": "d0b30a37-f945-4e9b-be39-757b0a9e7460"
      },
      "execution_count": null,
      "outputs": [
        {
          "output_type": "execute_result",
          "data": {
            "text/plain": [
              "[1, 2, 3, (4+5j), 'Habiba']"
            ]
          },
          "metadata": {},
          "execution_count": 10
        }
      ]
    },
    {
      "cell_type": "code",
      "source": [
        "list_cont[0]"
      ],
      "metadata": {
        "colab": {
          "base_uri": "https://localhost:8080/"
        },
        "id": "qKvvDQAlbhgI",
        "outputId": "073d3501-f010-4065-c066-58fd7c984dcb"
      },
      "execution_count": null,
      "outputs": [
        {
          "output_type": "execute_result",
          "data": {
            "text/plain": [
              "1"
            ]
          },
          "metadata": {},
          "execution_count": 11
        }
      ]
    },
    {
      "cell_type": "code",
      "source": [
        "list_cont[4]"
      ],
      "metadata": {
        "colab": {
          "base_uri": "https://localhost:8080/",
          "height": 35
        },
        "id": "8kjO8dpjbnG8",
        "outputId": "2d405510-7699-43f8-f57b-ff9610aed70f"
      },
      "execution_count": null,
      "outputs": [
        {
          "output_type": "execute_result",
          "data": {
            "text/plain": [
              "'Habiba'"
            ],
            "application/vnd.google.colaboratory.intrinsic+json": {
              "type": "string"
            }
          },
          "metadata": {},
          "execution_count": 12
        }
      ]
    },
    {
      "cell_type": "code",
      "source": [
        "list_cont[3]"
      ],
      "metadata": {
        "colab": {
          "base_uri": "https://localhost:8080/"
        },
        "id": "BZK9lKCobp4T",
        "outputId": "1bcd0368-a3dd-4588-a885-5381f8911940"
      },
      "execution_count": null,
      "outputs": [
        {
          "output_type": "execute_result",
          "data": {
            "text/plain": [
              "(4+5j)"
            ]
          },
          "metadata": {},
          "execution_count": 13
        }
      ]
    },
    {
      "cell_type": "code",
      "source": [
        "#DICTIONARY\n",
        "dict = {'name': 'habiba', 'age': 24}\n",
        "dict['age'] = 21\n",
        "dict"
      ],
      "metadata": {
        "colab": {
          "base_uri": "https://localhost:8080/"
        },
        "id": "I2jtD7M0btoK",
        "outputId": "ce99bab8-6333-43f9-a241-b35dd482f518"
      },
      "execution_count": null,
      "outputs": [
        {
          "output_type": "execute_result",
          "data": {
            "text/plain": [
              "{'name': 'habiba', 'age': 21}"
            ]
          },
          "metadata": {},
          "execution_count": 21
        }
      ]
    },
    {
      "cell_type": "code",
      "source": [
        "#set\n",
        "set = {1,2,3,4,5}\n",
        "set.add(6)\n",
        "set"
      ],
      "metadata": {
        "colab": {
          "base_uri": "https://localhost:8080/"
        },
        "id": "cOu2Roc7cUBu",
        "outputId": "2109f00f-e69b-4d1b-9387-210c64e996ee"
      },
      "execution_count": null,
      "outputs": [
        {
          "output_type": "execute_result",
          "data": {
            "text/plain": [
              "{1, 2, 3, 4, 5, 6}"
            ]
          },
          "metadata": {},
          "execution_count": 24
        }
      ]
    },
    {
      "cell_type": "markdown",
      "source": [
        "IMMUTABLE OBJECTS\n",
        "\n",
        "Immutable objects cannot be modified after they are created. Any operation that appears to modify an immutable object will create a new object instead. Common examples include integers, floats, strings, and tuples."
      ],
      "metadata": {
        "id": "DkjoWKSvdnJY"
      }
    },
    {
      "cell_type": "code",
      "source": [
        "3+4*2"
      ],
      "metadata": {
        "colab": {
          "base_uri": "https://localhost:8080/"
        },
        "id": "qKBL4du7d5AI",
        "outputId": "e6382070-ff97-4c64-eefb-4e6dc39f00ba"
      },
      "execution_count": null,
      "outputs": [
        {
          "output_type": "execute_result",
          "data": {
            "text/plain": [
              "11"
            ]
          },
          "metadata": {},
          "execution_count": 25
        }
      ]
    },
    {
      "cell_type": "code",
      "source": [
        "4+8*3"
      ],
      "metadata": {
        "colab": {
          "base_uri": "https://localhost:8080/"
        },
        "id": "N_8hWEMfeQbA",
        "outputId": "ec48fbb9-b7b8-4107-b313-26d11b07a62b"
      },
      "execution_count": null,
      "outputs": [
        {
          "output_type": "execute_result",
          "data": {
            "text/plain": [
              "28"
            ]
          },
          "metadata": {},
          "execution_count": 26
        }
      ]
    },
    {
      "cell_type": "markdown",
      "source": [
        "**Q4.** Discuss the different types of operators in python and provide examples of how they are used.\n",
        "\n"
      ],
      "metadata": {
        "id": "ZNdVcyB9tnCW"
      }
    },
    {
      "cell_type": "markdown",
      "source": [
        "**ANS 4.** The different types of operators in python are Arithmetic operator, Comparison Operator, Assignment Operators, Logical Operator, Bitwise Operator, Membership Operator, Identity Operators."
      ],
      "metadata": {
        "id": "37hHZl4Htqwc"
      }
    },
    {
      "cell_type": "code",
      "source": [
        "#EXAMPLES\n",
        "#Arithmetic Operator\n",
        "a = 26\n",
        "b = 20\n",
        "# Addition\n",
        "print (\"a + b : \", a + b)\n",
        "# Subtraction\n",
        "print (\"a - b : \", a - b)\n",
        "# Multiplication\n",
        "print (\"a * b : \", a * b)\n",
        "# Division\n",
        "print (\"a / b : \", a / b)\n",
        "# Modulus\n",
        "print (\"a % b : \", a % b)\n",
        "# Exponent\n",
        "print (\"a ** b : \", a ** b)\n",
        "# Floor Division\n",
        "print (\"a // b : \", a // b)"
      ],
      "metadata": {
        "colab": {
          "base_uri": "https://localhost:8080/"
        },
        "id": "2t2zWWgVvU-O",
        "outputId": "b4e1c8da-5978-4a99-e19e-eb3c7f0cd25f"
      },
      "execution_count": null,
      "outputs": [
        {
          "output_type": "stream",
          "name": "stdout",
          "text": [
            "a + b :  46\n",
            "a - b :  6\n",
            "a * b :  520\n",
            "a / b :  1.3\n",
            "a % b :  6\n",
            "a ** b :  19928148895209409152340197376\n",
            "a // b :  1\n"
          ]
        }
      ]
    },
    {
      "cell_type": "code",
      "source": [
        "# Python Comparison Operators\n",
        "a = 6\n",
        "b = 10\n",
        "# Equal\n",
        "print (\"a == b : \", a == b)\n",
        "# Not Equal\n",
        "print (\"a != b : \", a != b)\n",
        "# Greater Than\n",
        "print (\"a > b : \", a > b)\n",
        "# Less Than\n",
        "print (\"a < b : \", a < b)\n",
        "# Greater Than or Equal to\n",
        "print (\"a >= b : \", a >= b)\n",
        "# Less Than or Equal to\n",
        "print (\"a <= b : \", a <= b)\n",
        "\n"
      ],
      "metadata": {
        "colab": {
          "base_uri": "https://localhost:8080/"
        },
        "id": "bxUKSN15wIYI",
        "outputId": "c6a693f2-cae5-4513-ac2b-201e45aa95df"
      },
      "execution_count": null,
      "outputs": [
        {
          "output_type": "stream",
          "name": "stdout",
          "text": [
            "a == b :  False\n",
            "a != b :  True\n",
            "a > b :  False\n",
            "a < b :  True\n",
            "a >= b :  False\n",
            "a <= b :  True\n"
          ]
        }
      ]
    },
    {
      "cell_type": "code",
      "source": [
        "#Python Assignment Operators\n",
        "# Assignment Operator\n",
        "a = 20\n",
        "# Addition Assignment\n",
        "a += 5\n",
        "print (\"a += 5 : \", a)\n",
        "# Subtraction Assignment\n",
        "a -= 5\n",
        "print (\"a -= 5 : \", a)\n",
        "# Multiplication Assignment\n",
        "a *= 5\n",
        "print (\"a *= 5 : \", a)\n",
        "# Division Assignment\n",
        "a /= 5\n",
        "print (\"a /= 5 : \",a)\n",
        "# Remainder Assignment\n",
        "a %= 3\n",
        "print (\"a %= 3 : \", a)\n",
        "# Exponent Assignment\n",
        "a **= 2\n",
        "print (\"a **= 2 : \", a)\n",
        "# Floor Division Assignment\n",
        "a //= 3\n",
        "print (\"a //= 3 : \", a)\n"
      ],
      "metadata": {
        "colab": {
          "base_uri": "https://localhost:8080/"
        },
        "id": "4LhpDXCmwZ3i",
        "outputId": "2bed3c3e-c1a6-44a5-cfdb-fbf9645b4680"
      },
      "execution_count": null,
      "outputs": [
        {
          "output_type": "stream",
          "name": "stdout",
          "text": [
            "a += 5 :  25\n",
            "a -= 5 :  20\n",
            "a *= 5 :  100\n",
            "a /= 5 :  20.0\n",
            "a %= 3 :  2.0\n",
            "a **= 2 :  4.0\n",
            "a //= 3 :  1.0\n"
          ]
        }
      ]
    },
    {
      "cell_type": "code",
      "source": [
        "#Python Bitwise Operators\n",
        "a = 60 # 60 = 0011 1100\n",
        "b = 13 # 13 = 0000 1101\n",
        "# Binary AND\n",
        "c = a & b # 12 = 0000 1100\n",
        "print (\"a & b : \", c)\n",
        "# Binary OR\n",
        "c = a | b # 61 = 0011 1101\n",
        "print (\"a | b : \", c)\n",
        "# Binary XOR\n",
        "c = a ^ b # 49 = 0011 0001\n",
        "print (\"a ^ b : \", c)\n",
        "# Binary Ones Complement\n",
        "c = ~a; # -61 = 1100 0011\n",
        "print (\"~a : \", c)\n",
        "# Binary Left Shift\n",
        "c = a << 2; # 240 = 1111 0000\n",
        "print (\"a << 2 : \", c)\n",
        "# Binary Right Shift\n",
        "c = a >> 2; # 15 = 0000 1111\n",
        "print (\"a >> 2 : \", c)"
      ],
      "metadata": {
        "id": "xHVP4mLZwqX2",
        "colab": {
          "base_uri": "https://localhost:8080/"
        },
        "outputId": "bd95fdfe-284b-4006-c863-0c0cd121eb95"
      },
      "execution_count": 2,
      "outputs": [
        {
          "output_type": "stream",
          "name": "stdout",
          "text": [
            "a & b :  12\n",
            "a | b :  61\n",
            "a ^ b :  49\n",
            "~a :  -61\n",
            "a << 2 :  240\n",
            "a >> 2 :  15\n"
          ]
        }
      ]
    },
    {
      "cell_type": "code",
      "source": [
        "# Python Logical Operators\n",
        "x = 4\n",
        "y = 8\n",
        "if x > 2 and y < 12:\n",
        "  print(\"Both x and y are within the specified range\")"
      ],
      "metadata": {
        "colab": {
          "base_uri": "https://localhost:8080/"
        },
        "id": "hROP91elMrdW",
        "outputId": "4df9e02e-2a6a-4605-aa24-f94029156e15"
      },
      "execution_count": 5,
      "outputs": [
        {
          "output_type": "stream",
          "name": "stdout",
          "text": [
            "Both x and y are within the specified range\n"
          ]
        }
      ]
    },
    {
      "cell_type": "code",
      "source": [
        "#Python Membership Operators\n",
        "fruits = [\"apple\", \"banana\", \"cherry\"]\n",
        "if \"banana\" in fruits:\n",
        "    print(\"Yes, banana is a fruit!\")\n",
        "else:\n",
        "    print(\"No, banana is not a fruit!\")"
      ],
      "metadata": {
        "colab": {
          "base_uri": "https://localhost:8080/"
        },
        "id": "TJIBIEcVMzeC",
        "outputId": "f739c595-e3c0-4e14-c8c8-a8b6cb6bb690"
      },
      "execution_count": 7,
      "outputs": [
        {
          "output_type": "stream",
          "name": "stdout",
          "text": [
            "Yes, banana is a fruit!\n"
          ]
        }
      ]
    },
    {
      "cell_type": "code",
      "source": [
        "# Python Identity Operators\n",
        "x = 20\n",
        "y = 15\n",
        "if x is y:\n",
        "    print(\"x and y are the same object\")\n",
        "else:\n",
        "    print(\"x and y are not the same object\")"
      ],
      "metadata": {
        "colab": {
          "base_uri": "https://localhost:8080/"
        },
        "id": "0dZNSkBWM_WK",
        "outputId": "436edde1-d572-4ad0-afbb-62424b895078"
      },
      "execution_count": 10,
      "outputs": [
        {
          "output_type": "stream",
          "name": "stdout",
          "text": [
            "x and y are not the same object\n"
          ]
        }
      ]
    },
    {
      "cell_type": "markdown",
      "source": [
        "**Q 5.** Explain the concept of type casting in python with examples."
      ],
      "metadata": {
        "id": "oYVPRKnKNVLG"
      }
    },
    {
      "cell_type": "markdown",
      "source": [
        "**ANS 5.**  Type casting in Python is the process of converting one data type into another. It’s useful when you want to perform operations that require data to be in a specific type. Python supports two main types of casting: implicit and explicit.\n",
        "\n",
        "1. Implicit Type Casting\n",
        "\n",
        "In implicit casting, Python automatically converts a data type without any explicit instruction from the programmer. This generally happens when mixing two types where the conversion will not result in data loss."
      ],
      "metadata": {
        "id": "GYwZ-X4WNqSr"
      }
    },
    {
      "cell_type": "code",
      "source": [
        "# Implicit casting from integer to float\n",
        "num_int = 10\n",
        "num_float = 3.5\n",
        "result = num_int + num_float  # Integer `10` is automatically cast to float `10.0`\n",
        "print(result)  # Output: 13.5\n",
        "print(type(result))  # Output: <class 'float'>\n"
      ],
      "metadata": {
        "colab": {
          "base_uri": "https://localhost:8080/"
        },
        "id": "wJzbaNgKOblM",
        "outputId": "96fa1a90-ff05-4ca8-e469-f5e059fb7444"
      },
      "execution_count": 11,
      "outputs": [
        {
          "output_type": "stream",
          "name": "stdout",
          "text": [
            "13.5\n",
            "<class 'float'>\n"
          ]
        }
      ]
    },
    {
      "cell_type": "code",
      "source": [
        "\n",
        "# Python program to demonstrate\n",
        "# implicit type Casting\n",
        "\n",
        "# Python automatically converts\n",
        "# a to int\n",
        "a = 5\n",
        "print(type(a))\n",
        "\n",
        "# Python automatically converts\n",
        "# b to float\n",
        "b = 1.0\n",
        "print(type(b))\n",
        "\n",
        "# Python automatically converts\n",
        "# c to float as it is a float addition\n",
        "c = a + b\n",
        "print(c)\n",
        "print(type(c))\n",
        "\n",
        "# Python automatically converts\n",
        "# d to float as it is a float multiplication\n",
        "d = a * b\n",
        "print(d)\n",
        "print(type(d))"
      ],
      "metadata": {
        "colab": {
          "base_uri": "https://localhost:8080/"
        },
        "id": "XCXbclnDOigE",
        "outputId": "c52a3518-e5a3-48fe-c6b7-75cde47dd321"
      },
      "execution_count": 13,
      "outputs": [
        {
          "output_type": "stream",
          "name": "stdout",
          "text": [
            "<class 'int'>\n",
            "<class 'float'>\n",
            "6.0\n",
            "<class 'float'>\n",
            "5.0\n",
            "<class 'float'>\n"
          ]
        }
      ]
    },
    {
      "cell_type": "markdown",
      "source": [
        "2. Explicit Type Casting\n",
        "\n",
        "\n",
        "In explicit casting, the programmer manually converts one data type into another using built-in functions like int(), float(), str(), and bool()."
      ],
      "metadata": {
        "id": "4xOuCr7vONms"
      }
    },
    {
      "cell_type": "code",
      "source": [
        "# Converting string to integer\n",
        "num_str = \"42\"\n",
        "num_int = int(num_str)\n",
        "print(num_int)  # Output: 42\n",
        "print(type(num_int))  # Output: <class 'int'>\n",
        "\n",
        "# Converting float to integer\n",
        "num_float = 5.99\n",
        "num_int = int(num_float)  # Truncates decimal part\n",
        "print(num_int)  # Output: 5\n",
        "\n",
        "# Converting integer to string\n",
        "num = 100\n",
        "num_str = str(num)\n",
        "print(num_str)  # Output: '100'\n",
        "print(type(num_str))  # Output: <class 'str'>\n"
      ],
      "metadata": {
        "colab": {
          "base_uri": "https://localhost:8080/"
        },
        "id": "bm9Hf7B2O3tS",
        "outputId": "a336350a-a413-48c1-d315-b695c99a789a"
      },
      "execution_count": 14,
      "outputs": [
        {
          "output_type": "stream",
          "name": "stdout",
          "text": [
            "42\n",
            "<class 'int'>\n",
            "5\n",
            "100\n",
            "<class 'str'>\n"
          ]
        }
      ]
    },
    {
      "cell_type": "markdown",
      "source": [
        "**Q 6.**  How do conditional statements work in Python? Illustrate with examples.\n",
        "\n",
        "\n",
        "**ANS 6.** Conditional statements in Python allow the code to make decisions based on certain conditions. They evaluate expressions and execute code blocks only if the expressions are true. The primary conditional statements in Python are if, elif, and else."
      ],
      "metadata": {
        "id": "50OkzzgTPl6e"
      }
    },
    {
      "cell_type": "code",
      "source": [
        "#IF STATEMENT\n",
        "age = 18\n",
        "if age >= 18:\n",
        "    print(\"You are an adult.\")  # This will execute because `age >= 18` is True"
      ],
      "metadata": {
        "colab": {
          "base_uri": "https://localhost:8080/"
        },
        "id": "fLKrWZuyPfR9",
        "outputId": "84e24aed-59e3-41d2-a8f9-8f156a50e786"
      },
      "execution_count": 15,
      "outputs": [
        {
          "output_type": "stream",
          "name": "stdout",
          "text": [
            "You are an adult.\n"
          ]
        }
      ]
    },
    {
      "cell_type": "code",
      "source": [
        "#ELSE STATEMENT\n",
        "age = 16\n",
        "if age >= 18:\n",
        "    print(\"You are an adult.\")\n",
        "else:\n",
        "    print(\"You are not an adult.\")  # This will execute because `age >= 18` is False"
      ],
      "metadata": {
        "colab": {
          "base_uri": "https://localhost:8080/"
        },
        "id": "btUXqN5NQjeJ",
        "outputId": "c606767e-61aa-4d93-b096-e7f1eaeb8ffd"
      },
      "execution_count": 16,
      "outputs": [
        {
          "output_type": "stream",
          "name": "stdout",
          "text": [
            "You are not an adult.\n"
          ]
        }
      ]
    },
    {
      "cell_type": "code",
      "source": [
        "#ELIF STATEMENT\n",
        "score = 75\n",
        "if score >= 90:\n",
        "    print(\"Grade: A\")\n",
        "elif score >= 80:\n",
        "    print(\"Grade: B\")\n",
        "elif score >= 70:\n",
        "    print(\"Grade: C\")  # This will execute because `score >= 70` is True\n",
        "else:\n",
        "    print(\"Grade: D\")"
      ],
      "metadata": {
        "colab": {
          "base_uri": "https://localhost:8080/"
        },
        "id": "Lzq22IjPQyZs",
        "outputId": "d2f9fe5f-dbbb-4170-d5a9-a186dac1b031"
      },
      "execution_count": 17,
      "outputs": [
        {
          "output_type": "stream",
          "name": "stdout",
          "text": [
            "Grade: C\n"
          ]
        }
      ]
    },
    {
      "cell_type": "markdown",
      "source": [
        "**Q 7.**   Describe the different types of loops in Python and their use cases with examples."
      ],
      "metadata": {
        "id": "a0FeAJNoRWc9"
      }
    },
    {
      "cell_type": "markdown",
      "source": [
        "**ANS 7.**  A loop in Python is a control structure that allows you to repeatedly execute a block of code as long as a specified condition is true or as long as there are items to process in a sequence. Loops are essential for automating repetitive tasks, iterating over data structures like lists or strings, and performing tasks until a certain condition changes. The main types of loops in Python are while loops, for loops and nested loops, each suited for different use cases."
      ],
      "metadata": {
        "id": "uvyRUlspRi_m"
      }
    },
    {
      "cell_type": "code",
      "source": [
        "# python while loop\n",
        "count = 0\n",
        "while (count < 10):\n",
        " print ('The count is:', count)\n",
        " count = count + 1\n",
        "print (\"it's beautiful!\")"
      ],
      "metadata": {
        "colab": {
          "base_uri": "https://localhost:8080/"
        },
        "id": "AITlCc-8Spms",
        "outputId": "c5e4f27b-b535-4f54-e1dc-449e7aa44f35"
      },
      "execution_count": 19,
      "outputs": [
        {
          "output_type": "stream",
          "name": "stdout",
          "text": [
            "The count is: 0\n",
            "The count is: 1\n",
            "The count is: 2\n",
            "The count is: 3\n",
            "The count is: 4\n",
            "The count is: 5\n",
            "The count is: 6\n",
            "The count is: 7\n",
            "The count is: 8\n",
            "The count is: 9\n",
            "it's beautiful!\n"
          ]
        }
      ]
    },
    {
      "cell_type": "code",
      "source": [
        "#python for loop\n",
        "for letter in 'data science': # First Example\n",
        " print ('Current Letter :', letter)\n",
        "fruits = ['orange', 'mango', 'litchi']\n",
        "for fruit in fruits: # Second Example\n",
        " print ('Current fruit :', fruit)\n",
        "print (\"Perfect\")"
      ],
      "metadata": {
        "colab": {
          "base_uri": "https://localhost:8080/"
        },
        "id": "pYLsraKbSzAg",
        "outputId": "cea89ba0-e52c-4c4a-b8ad-288824027384"
      },
      "execution_count": 22,
      "outputs": [
        {
          "output_type": "stream",
          "name": "stdout",
          "text": [
            "Current Letter : d\n",
            "Current Letter : a\n",
            "Current Letter : t\n",
            "Current Letter : a\n",
            "Current Letter :  \n",
            "Current Letter : s\n",
            "Current Letter : c\n",
            "Current Letter : i\n",
            "Current Letter : e\n",
            "Current Letter : n\n",
            "Current Letter : c\n",
            "Current Letter : e\n",
            "Current fruit : orange\n",
            "Current fruit : mango\n",
            "Current fruit : litchi\n",
            "Perfect\n"
          ]
        }
      ]
    },
    {
      "cell_type": "code",
      "source": [
        "#python nested loop\n",
        "i = 4\n",
        "while(i < 100):\n",
        " j = 4\n",
        " while(j <= (i/j)):\n",
        "   if not(i%j): break\n",
        "   j = j + 1\n",
        " if (j > i/j) : print (i, \" is prime\")\n",
        " i = i + 1\n",
        "print (\"Thank you\")"
      ],
      "metadata": {
        "colab": {
          "base_uri": "https://localhost:8080/"
        },
        "id": "TV0hhGLVS9Tx",
        "outputId": "d48580b4-a07a-4e2b-91e0-bbdf35b4c46f"
      },
      "execution_count": 23,
      "outputs": [
        {
          "output_type": "stream",
          "name": "stdout",
          "text": [
            "4  is prime\n",
            "5  is prime\n",
            "6  is prime\n",
            "7  is prime\n",
            "8  is prime\n",
            "9  is prime\n",
            "10  is prime\n",
            "11  is prime\n",
            "12  is prime\n",
            "13  is prime\n",
            "14  is prime\n",
            "15  is prime\n",
            "17  is prime\n",
            "18  is prime\n",
            "19  is prime\n",
            "21  is prime\n",
            "22  is prime\n",
            "23  is prime\n",
            "26  is prime\n",
            "27  is prime\n",
            "29  is prime\n",
            "31  is prime\n",
            "33  is prime\n",
            "34  is prime\n",
            "37  is prime\n",
            "38  is prime\n",
            "39  is prime\n",
            "41  is prime\n",
            "43  is prime\n",
            "46  is prime\n",
            "47  is prime\n",
            "51  is prime\n",
            "53  is prime\n",
            "57  is prime\n",
            "58  is prime\n",
            "59  is prime\n",
            "61  is prime\n",
            "62  is prime\n",
            "67  is prime\n",
            "69  is prime\n",
            "71  is prime\n",
            "73  is prime\n",
            "74  is prime\n",
            "79  is prime\n",
            "82  is prime\n",
            "83  is prime\n",
            "86  is prime\n",
            "87  is prime\n",
            "89  is prime\n",
            "93  is prime\n",
            "94  is prime\n",
            "97  is prime\n",
            "Thank you\n"
          ]
        }
      ]
    }
  ]
}